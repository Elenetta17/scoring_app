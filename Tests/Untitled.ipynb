{
 "cells": [
  {
   "cell_type": "code",
   "execution_count": 16,
   "id": "ee6efb2c-1d75-4666-a5c0-77901450abaf",
   "metadata": {},
   "outputs": [
    {
     "ename": "ModuleNotFoundError",
     "evalue": "No module named 'app'",
     "output_type": "error",
     "traceback": [
      "\u001b[1;31m---------------------------------------------------------------------------\u001b[0m",
      "\u001b[1;31mModuleNotFoundError\u001b[0m                       Traceback (most recent call last)",
      "Input \u001b[1;32mIn [16]\u001b[0m, in \u001b[0;36m<cell line: 1>\u001b[1;34m()\u001b[0m\n\u001b[1;32m----> 1\u001b[0m \u001b[38;5;28;01mfrom\u001b[39;00m \u001b[38;5;21;01mapp\u001b[39;00m \u001b[38;5;28;01mimport\u001b[39;00m predict\n\u001b[0;32m      2\u001b[0m \u001b[38;5;28;01mimport\u001b[39;00m \u001b[38;5;21;01mjson\u001b[39;00m\n\u001b[0;32m      3\u001b[0m \u001b[38;5;28;01mimport\u001b[39;00m \u001b[38;5;21;01mrequests\u001b[39;00m\n",
      "\u001b[1;31mModuleNotFoundError\u001b[0m: No module named 'app'"
     ]
    }
   ],
   "source": [
    "from app import predict\n",
    "import json\n",
    "import requests\n",
    "import unittest\n",
    "\n",
    "url = 'http://127.0.0.1:3000/predict'\n",
    "\n",
    "\n",
    "class TestPrediction(unittest.TestCase):\n",
    "\n",
    "    def test_should_predict_60(self):\n",
    "        client_id = str(100001)\n",
    "        prediction = requests.post(url, data=client_id)\n",
    "        self.assertEqual(prediction.text, str(60))\n",
    "\n",
    "    def test_should_predict_31(self):\n",
    "        client_id = str(100005)\n",
    "        prediction = requests.post(url, data=client_id)\n",
    "        self.assertEqual(prediction.text, str(31))\n",
    "\n",
    "\n",
    "if __name__ == \"__main__\":\n",
    "    unittest.main()"
   ]
  },
  {
   "cell_type": "code",
   "execution_count": 2,
   "id": "ab054bc2-cd97-44c1-8d9e-6b9c652096a1",
   "metadata": {},
   "outputs": [],
   "source": [
    "%load_ext pycodestyle_magic \n",
    "%pycodestyle_on"
   ]
  },
  {
   "cell_type": "code",
   "execution_count": null,
   "id": "de030954-1a45-42a7-accb-a24a2e8238ea",
   "metadata": {},
   "outputs": [],
   "source": []
  }
 ],
 "metadata": {
  "kernelspec": {
   "display_name": "Python 3 (ipykernel)",
   "language": "python",
   "name": "python3"
  },
  "language_info": {
   "codemirror_mode": {
    "name": "ipython",
    "version": 3
   },
   "file_extension": ".py",
   "mimetype": "text/x-python",
   "name": "python",
   "nbconvert_exporter": "python",
   "pygments_lexer": "ipython3",
   "version": "3.9.12"
  }
 },
 "nbformat": 4,
 "nbformat_minor": 5
}
